{
 "cells": [
  {
   "cell_type": "code",
   "execution_count": 1,
   "id": "f03b9e10",
   "metadata": {},
   "outputs": [],
   "source": [
    "# Importações necessárias\n",
    "import pandas as pd\n",
    "import numpy as np\n",
    "from main import *  # Importa todas as funções criadas\n",
    "import warnings\n",
    "warnings.filterwarnings('ignore')\n",
    "\n",
    "# Configurações para melhor visualização\n",
    "pd.set_option('display.max_columns', None)\n",
    "pd.set_option('display.width', None)\n",
    "pd.set_option('display.max_colwidth', 50)"
   ]
  },
  {
   "cell_type": "markdown",
   "id": "a2c3d049",
   "metadata": {},
   "source": [
    "## Carregamento e Preparação dos Dados"
   ]
  },
  {
   "cell_type": "code",
   "execution_count": null,
   "id": "231652f4",
   "metadata": {},
   "outputs": [],
   "source": [
    "print(\"🔄 CARREGANDO DADOS PARA ANÁLISE DE MIGRAÇÃO\")\n",
    "print(\"=\"*60)\n",
    "\n",
    "# TODO: Implementar funções específicas de extração\n",
    "def extrair_tabela_gdxp(nome_tabela):\n",
    "    # Implementar extração do GDXP\n",
    "    pass\n",
    "\n",
    "def extrair_tabela_aws(nome_tabela):\n",
    "    # Implementar extração da AWS\n",
    "    pass\n",
    "\n",
    "# Exemplo de uso (substitua pelas suas funções)\n",
    "# df_original = extrair_tabela_gdxp(\"nome_da_tabela\")\n",
    "# df_aws = extrair_tabela_aws(\"nome_da_tabela\")\n",
    "\n",
    "print(f\"✅ Dados carregados com sucesso!\")\n",
    "print(f\"   📊 Base Original (GDXP): {len(df_original):,} registros\")\n",
    "print(f\"   📊 Base AWS: {len(df_aws):,} registros\")\n",
    "print(f\"   📅 Período de análise: {df_original['data_coluna'].min()} a {df_original['data_coluna'].max()}\")"
   ]
  },
  {
   "cell_type": "markdown",
   "id": "f415c5c7",
   "metadata": {},
   "source": [
    "## Análise Volumétrica Inicial"
   ]
  },
  {
   "cell_type": "code",
   "execution_count": null,
   "id": "90975025",
   "metadata": {},
   "outputs": [],
   "source": [
    "print(\"\\n\" + \"=\"*60)\n",
    "print(\"📊 ANÁLISE VOLUMÉTRICA INICIAL\")\n",
    "print(\"=\"*60)\n",
    "\n",
    "# Executar comparação volumétrica\n",
    "resultado_volumetria = comparar_volumetria(df_original, df_aws)\n",
    "\n",
    "print(f\"📈 RESUMO VOLUMÉTRICO:\")\n",
    "print(f\"   🔹 Base Original (GDXP): {resultado_volumetria['volumetria_original']:,} registros\")\n",
    "print(f\"   🔹 Base AWS: {resultado_volumetria['volumetria_aws']:,} registros\")\n",
    "print(f\"   🔹 Diferença: {resultado_volumetria['diferenca']:,} registros\")\n",
    "\n",
    "if resultado_volumetria['diferenca'] > 0:\n",
    "    percentual_perda = (resultado_volumetria['diferenca'] / resultado_volumetria['volumetria_original']) * 100\n",
    "    print(f\"   ⚠️  Perda de dados: {percentual_perda:.2f}%\")\n",
    "elif resultado_volumetria['diferenca'] < 0:\n",
    "    percentual_ganho = abs((resultado_volumetria['diferenca'] / resultado_volumetria['volumetria_original']) * 100)\n",
    "    print(f\"   📈 Aumento de dados: {percentual_ganho:.2f}%\")\n",
    "else:\n",
    "    print(f\"   ✅ Volumetrias idênticas!\")\n"
   ]
  },
  {
   "cell_type": "markdown",
   "id": "4ddb9049",
   "metadata": {},
   "source": [
    "## Análise de Contratos Ausentes"
   ]
  },
  {
   "cell_type": "code",
   "execution_count": null,
   "id": "26015e40",
   "metadata": {},
   "outputs": [],
   "source": [
    "print(\"\\n\" + \"=\"*60)\n",
    "print(\"🔍 ANÁLISE DE CONTRATOS AUSENTES\")\n",
    "print(\"=\"*60)\n",
    "\n",
    "# Identificar contratos ausentes\n",
    "df_ausentes, num_ausentes, amostra_ausentes = contratos_ausentes(\n",
    "    df_original, df_aws, 'coluna_contrato'\n",
    ")\n",
    "\n",
    "print(f\"📋 CONTRATOS NÃO MIGRADOS:\")\n",
    "print(f\"   🔹 Total de contratos ausentes: {num_ausentes:,}\")\n",
    "print(f\"   🔹 Arquivo gerado: 'contratos_ausentes.csv'\")\n",
    "\n",
    "if num_ausentes > 0:\n",
    "    percentual_ausentes = (num_ausentes / df_original['coluna_contrato'].nunique()) * 100\n",
    "    print(f\"   🔹 Percentual de contratos não migrados: {percentual_ausentes:.2f}%\")\n",
    "    \n",
    "    print(f\"\\n📝 AMOSTRA DE CONTRATOS AUSENTES:\")\n",
    "    if not amostra_ausentes.empty:\n",
    "        for idx, contrato in enumerate(amostra_ausentes['coluna_contrato'].head(), 1):\n",
    "            print(f\"   {idx}. {contrato}\")\n",
    "    \n",
    "    if num_ausentes > 5:\n",
    "        print(f\"   ... e mais {num_ausentes - 5} contratos (ver arquivo CSV)\")\n",
    "else:\n",
    "    print(f\"   ✅ Todos os contratos foram migrados!\")\n"
   ]
  },
  {
   "cell_type": "markdown",
   "id": "b2aca1dc",
   "metadata": {},
   "source": [
    "## Análise Volumétrica Filtrada"
   ]
  },
  {
   "cell_type": "code",
   "execution_count": null,
   "id": "0db1035b",
   "metadata": {},
   "outputs": [],
   "source": [
    "print(\"\\n\" + \"=\"*60)\n",
    "print(\"📊 ANÁLISE VOLUMÉTRICA - CONTRATOS COMUNS\")\n",
    "print(\"=\"*60)\n",
    "\n",
    "# Comparar volumetria apenas dos contratos presentes em ambas as bases\n",
    "resultado_filtrado = comparar_volumetria_filtrada(df_original, df_aws, 'coluna_contrato')\n",
    "\n",
    "print(f\"📈 VOLUMETRIA DOS CONTRATOS COMUNS:\")\n",
    "print(f\"   🔹 Base Original (filtrada): {resultado_filtrado['volumetria_original_filtrada']:,} registros\")\n",
    "print(f\"   🔹 Base AWS (filtrada): {resultado_filtrado['volumetria_aws_filtrada']:,} registros\")\n",
    "print(f\"   🔹 Diferença: {resultado_filtrado['diferenca_filtrada']:,} registros\")\n",
    "\n",
    "if resultado_filtrado['diferenca_filtrada'] != 0:\n",
    "    print(f\"   ⚠️  Ainda existem diferenças volumétricas mesmo com contratos comuns\")\n",
    "else:\n",
    "    print(f\"   ✅ Volumetrias idênticas para contratos comuns!\")\n"
   ]
  },
  {
   "cell_type": "markdown",
   "id": "b2fa9a55",
   "metadata": {},
   "source": [
    "## Análise de Últimas Partições"
   ]
  },
  {
   "cell_type": "code",
   "execution_count": null,
   "id": "ef45aa0a",
   "metadata": {},
   "outputs": [],
   "source": [
    "print(\"\\n\" + \"=\"*60)\n",
    "print(\"🎯 ANÁLISE DE ÚLTIMAS PARTIÇÕES\")\n",
    "print(\"=\"*60)\n",
    "\n",
    "# Verificar se as volumetrias batem considerando apenas últimas partições\n",
    "volumetrias_batem = comparar_ultimas_particoes(\n",
    "    df_original, df_aws, 'coluna_contrato', 'coluna_particao'\n",
    ")\n",
    "\n",
    "print(f\"🔍 COMPARAÇÃO DAS ÚLTIMAS PARTIÇÕES:\")\n",
    "if volumetrias_batem:\n",
    "    print(f\"   ✅ As volumetrias BATEM quando consideradas apenas as últimas partições!\")\n",
    "    print(f\"   💡 Isso confirma que o problema são registros históricos duplicados na AWS\")\n",
    "else:\n",
    "    print(f\"   ❌ As volumetrias NÃO BATEM mesmo considerando apenas as últimas partições\")\n",
    "    print(f\"   ⚠️  Pode haver outros problemas além da duplicação de partições\")\n"
   ]
  },
  {
   "cell_type": "markdown",
   "id": "732a76e9",
   "metadata": {},
   "source": [
    "## Comparação de Colunas"
   ]
  },
  {
   "cell_type": "code",
   "execution_count": null,
   "id": "0d023309",
   "metadata": {},
   "outputs": [],
   "source": [
    "print(\"\\n\" + \"=\"*60)\n",
    "print(\"🔬 ANÁLISE DE DIFERENÇAS POR COLUNA\")\n",
    "print(\"=\"*60)\n",
    "\n",
    "# Definir colunas importantes para comparar\n",
    "colunas_importantes = ['coluna1', 'coluna2', 'coluna3']  # Substitua pelas suas colunas\n",
    "\n",
    "# Comparar valores das colunas\n",
    "diferencas_colunas = comparar_colunas_por_contrato(\n",
    "    df_original, df_aws, 'coluna_contrato', colunas_importantes\n",
    ")\n",
    "\n",
    "print(f\"📊 DIFERENÇAS POR COLUNA:\")\n",
    "total_contratos_comuns = len(set(df_original['coluna_contrato'].unique()) & \n",
    "                            set(df_aws['coluna_contrato'].unique()))\n",
    "\n",
    "for coluna, num_diferencas in diferencas_colunas.items():\n",
    "    if num_diferencas > 0:\n",
    "        percentual = (num_diferencas / total_contratos_comuns) * 100\n",
    "        print(f\"   ⚠️  {coluna}: {num_diferencas:,} contratos com diferenças ({percentual:.2f}%)\")\n",
    "    else:\n",
    "        print(f\"   ✅ {coluna}: Sem diferenças detectadas\")\n",
    "\n",
    "# Identificar colunas mais problemáticas\n",
    "colunas_problematicas = [col for col, diff in diferencas_colunas.items() if diff > 0]\n",
    "if colunas_problematicas:\n",
    "    print(f\"\\n🚨 COLUNAS QUE REQUEREM ATENÇÃO:\")\n",
    "    for coluna in sorted(colunas_problematicas, key=lambda x: diferencas_colunas[x], reverse=True):\n",
    "        print(f\"   • {coluna}: {diferencas_colunas[coluna]:,} contratos afetados\")\n"
   ]
  },
  {
   "cell_type": "markdown",
   "id": "c02acaf6",
   "metadata": {},
   "source": [
    "## Análises de Qualidade de Dados"
   ]
  },
  {
   "cell_type": "code",
   "execution_count": null,
   "id": "42f4c928",
   "metadata": {},
   "outputs": [],
   "source": [
    "print(\"\\n\" + \"=\"*60)\n",
    "print(\"🔍 ANÁLISES DE QUALIDADE DE DADOS\")\n",
    "print(\"=\"*60)\n",
    "\n",
    "# Executar análises integradas de qualidade\n",
    "resultados_qualidade = executar_analises_qualidade(\n",
    "    df_original, df_aws, 'coluna_contrato', 'coluna_particao'\n",
    ")\n",
    "\n",
    "# Os relatórios já são impressos pela função, mas você pode acessar os dados:\n",
    "print(f\"\\n📋 RESUMO DAS ANÁLISES DE QUALIDADE:\")\n",
    "print(f\"   🔹 Colunas com alertas de nulos: {len(resultados_qualidade['colunas_com_alerta_nulos'])}\")\n",
    "print(f\"   🔹 Novos contratos duplicados: {resultados_qualidade['analise_duplicatas']['novos_duplicados']['quantidade']}\")\n",
    "print(f\"   🔹 Contratos em múltiplas partições: {resultados_qualidade['estatisticas_particoes']['total_contratos_duplicados']}\")\n"
   ]
  }
 ],
 "metadata": {
  "kernelspec": {
   "display_name": ".venv",
   "language": "python",
   "name": "python3"
  },
  "language_info": {
   "codemirror_mode": {
    "name": "ipython",
    "version": 3
   },
   "file_extension": ".py",
   "mimetype": "text/x-python",
   "name": "python",
   "nbconvert_exporter": "python",
   "pygments_lexer": "ipython3",
   "version": "3.12.3"
  }
 },
 "nbformat": 4,
 "nbformat_minor": 5
}
